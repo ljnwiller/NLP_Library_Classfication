{
 "cells": [
  {
   "cell_type": "markdown",
   "metadata": {
    "id": "KT7KddN1Sz6e"
   },
   "source": [
    "## Jianuo Liu\n",
    "\n",
    "### Please run the code in Google Colab"
   ]
  },
  {
   "cell_type": "code",
   "execution_count": 18,
   "metadata": {
    "id": "iv9ZLCwYSz6g"
   },
   "outputs": [],
   "source": [
    "import nltk\n",
    "from nltk.tokenize import RegexpTokenizer\n",
    "from nltk.corpus import stopwords\n",
    "from gensim.parsing import preprocessing\n",
    "import matplotlib.pyplot as plt\n",
    "import pandas as pd\n",
    "import numpy as np\n",
    "import re\n",
    "import random\n",
    "import string\n",
    "from sklearn.feature_extraction.text import CountVectorizer\n",
    "from sklearn.feature_extraction.text import TfidfVectorizer\n",
    "from sklearn.feature_extraction.text import TfidfTransformer\n",
    "from sklearn import svm\n",
    "from sklearn.svm import SVC\n",
    "from sklearn import model_selection\n",
    "from sklearn.model_selection import cross_validate\n",
    "from sklearn.model_selection import KFold\n",
    "from sklearn import tree\n",
    "from sklearn.tree import DecisionTreeClassifier\n",
    "from sklearn.neighbors import KNeighborsClassifier\n",
    "from sklearn.preprocessing import LabelEncoder, OneHotEncoder\n",
    "from sklearn.model_selection import cross_val_score\n",
    "from sklearn.naive_bayes import MultinomialNB\n",
    "from sklearn import metrics"
   ]
  },
  {
   "cell_type": "code",
   "execution_count": 19,
   "metadata": {
    "id": "3k04VPjSSz6h"
   },
   "outputs": [],
   "source": [
    "class Partition:\n",
    "    def __init__(self):\n",
    "      nltk.download('gutenberg')\n",
    "      nltk.download('punkt')\n",
    "      nltk.download('stopwords')\n",
    "      self.books = nltk.corpus.gutenberg.fileids()\n",
    "      self.text = None\n",
    "      self.words = None\n",
    "      self.sentence = None\n",
    "      self.chunks = []\n",
    "      self.df = None\n",
    "      self.label_list = []\n",
    "      self.encoder_nums = LabelEncoder()\n",
    "\n",
    "    # get the full text content of the book    \n",
    "    def getRawBook(self, bookName:str):\n",
    "      self.text = nltk.corpus.gutenberg.raw(bookName)\n",
    "      author = self.getAuthor()\n",
    "      self.text = self.text.lower()\n",
    "      return author\n",
    "    \n",
    "    # remove the punctuation and stopwords, only keep the words with meaning\n",
    "    def tokenize(self, removePunc = False, removeStop = False):\n",
    "      if self.text != None:\n",
    "        if removePunc:\n",
    "          #tokenizer = RegexpTokenizer(r'\\w+')\n",
    "          self.text = preprocessing.strip_punctuation(self.text)\n",
    "        if removeStop:\n",
    "          self.text = preprocessing.remove_stopwords(self.text)\n",
    "        self.words = nltk.word_tokenize(self.text)\n",
    "      else:\n",
    "        print(\"text is null, tokenize should be invoked after getRawBook.\")\n",
    "      \n",
    "        \n",
    "\n",
    "    # extract the author from each book        \n",
    "    def getAuthor(self):\n",
    "        text = nltk.sent_tokenize(self.text)[0]\n",
    "        regex = r\"((?<= by).*?(?=[\\d\\]]+))\"\n",
    "        match = re.search(regex, text)\n",
    "        author = None\n",
    "        if(match != None):\n",
    "            author = match.group().strip()\n",
    "            print(\"if: \" + author)\n",
    "        else:\n",
    "            regex = r\"(?<=\\[).*?(?=\\])\"\n",
    "            match = re.search(regex, text)\n",
    "            author = match.group().strip()\n",
    "            print(\"else: \" + author)   \n",
    "        return author\n",
    "    \n",
    "    # chunk the words by 200 partitions and then randomly pick 100 words in each partition.\n",
    "    # add author to the end of each 100 words record\n",
    "    def chunkize(self, author):\n",
    "      chunk = []\n",
    "      label_list = []\n",
    "      for i in range(200):\n",
    "        randomStart = random.randint(0, len(self.words) - 100)\n",
    "        words100 = self.words[randomStart:randomStart+100]\n",
    "        # words100 = map(str.lower, words100)\n",
    "            # words100.append(author)\n",
    "        label_list.append(author)\n",
    "        string = ' '.join(words100)\n",
    "        self.chunks.append(string)\n",
    "      #self.chunks.extend(chunk)\n",
    "      self.label_list.extend(label_list)\n",
    "    \n",
    "    # replace the author name at the end with one-hot binary numbers or real number to be the label (groups from the same book will have the same label)\n",
    "    def oneHotLabel(self, oneHot=True):\n",
    "      label_nums = self.encoder_nums.fit_transform(self.label_list)\n",
    "      categories = list(self.encoder_nums.classes_)\n",
    "      label_nums = np.array([label_nums]).T\n",
    "      encoder_one_hot = OneHotEncoder()\n",
    "      label_one_hot = encoder_one_hot.fit_transform(label_nums)\n",
    "      label_one_hot = label_one_hot.toarray()\n",
    "      print(np.array(self.chunks).shape, label_one_hot.shape, label_nums.shape)\n",
    "      if not oneHot:\n",
    "        return model_selection.train_test_split(self.chunks, label_nums, test_size=0.2, random_state=1024)\n",
    "      else:\n",
    "        return model_selection.train_test_split(self.chunks, label_one_hot, test_size=0.2, random_state=1024)\n",
    "    \n",
    "    def buildDF(self):\n",
    "      npChunks = np.array(self.chunks)\n",
    "      print(npChunks.shape)\n",
    "      data = npChunks.reshape((1000, 100))\n",
    "      print(data.shape)\n",
    "      self.df = pd.DataFrame(data)\n",
    "        "
   ]
  },
  {
   "cell_type": "code",
   "execution_count": 20,
   "metadata": {
    "colab": {
     "base_uri": "https://localhost:8080/"
    },
    "id": "LwkZLEIFSz6i",
    "outputId": "08eada51-f8e1-4d8e-c27c-92ae117746fb"
   },
   "outputs": [
    {
     "name": "stdout",
     "output_type": "stream",
     "text": [
      "[nltk_data] Downloading package gutenberg to /root/nltk_data...\n",
      "[nltk_data]   Package gutenberg is already up-to-date!\n",
      "[nltk_data] Downloading package punkt to /root/nltk_data...\n",
      "[nltk_data]   Package punkt is already up-to-date!\n",
      "[nltk_data] Downloading package stopwords to /root/nltk_data...\n",
      "[nltk_data]   Package stopwords is already up-to-date!\n",
      "austen-emma.txt\n",
      "if: Jane Austen\n",
      "carroll-alice.txt\n",
      "if: Lewis Carroll\n",
      "chesterton-ball.txt\n",
      "if: G.K. Chesterton\n",
      "burgess-busterbrown.txt\n",
      "if: Thornton W. Burgess\n",
      "melville-moby_dick.txt\n",
      "if: Herman Melville\n",
      "(1000,) (1000, 5) (1000, 1)\n",
      "(1000,) (1000, 5) (1000, 1)\n"
     ]
    }
   ],
   "source": [
    "partition = Partition()\n",
    "books = ['austen-emma.txt','carroll-alice.txt','chesterton-ball.txt','burgess-busterbrown.txt','melville-moby_dick.txt']\n",
    "\n",
    "for book in books:\n",
    "  print(book)\n",
    "  author = partition.getRawBook(book)\n",
    "  partition.tokenize(removePunc = True, removeStop = True)\n",
    "  partition.chunkize(author)\n",
    "#partition.buildDF()\n",
    "#df = partition.df\n",
    "\n",
    "X_train, X_test, y_train_onehot, y_test_onehot = partition.oneHotLabel()\n",
    "#print(X_train[0:10])\n",
    "X_train, X_test, y_train_num, y_test_num = partition.oneHotLabel(oneHot=False)\n",
    "#df.head()\n",
    "#print(X_train[0:10])\n",
    "#print(y_train_num)"
   ]
  },
  {
   "cell_type": "code",
   "execution_count": 21,
   "metadata": {
    "id": "grNnrSTMSz6k"
   },
   "outputs": [],
   "source": [
    "class FeatureModel:\n",
    "    def __init__(self, X_train, X_test, ):\n",
    "      self.X_train = X_train\n",
    "      self.X_test = X_test\n",
    "      self.modelName = None\n",
    "      self.freqMatrix = None\n",
    "      self.bag = None\n",
    "      self.X = None\n",
    "      self.vec = None\n",
    "      self.tfidf = None\n",
    "      self.transformer = None\n",
    "    \n",
    "    def toBOW(self):\n",
    "      self.vec = CountVectorizer()\n",
    "      #X_train_vec = self.vec.fit_transform([j for i in self.X_train for j in i])\n",
    "      #X_test_vec = self.vec.transform([j for i in self.X_test for j in i])\n",
    "      X_train_vec = self.vec.fit_transform(self.X_train)\n",
    "      X_test_vec = self.vec.transform(self.X_test)\n",
    "      return X_train_vec, X_test_vec\n",
    "        \n",
    "    def toTFIDF(self):\n",
    "    #   self.vec = CountVectorizer()\n",
    "    #   X_train_count = self.vec.fit_transform([j for i in self.X_train for j in i])\n",
    "    #   X_test_count = self.vec.transform([j for i in self.X_test for j in i])\n",
    "    #   vectorizer = TfidfTransformer(max_df=0.9)\n",
    "    #   X_train_vec = vectorizer.fit_transform(X_train_count)\n",
    "    #   #print(X_train_vec)\n",
    "    #   X_test_vec = vectorizer.transform(X_test_count)\n",
    "      self.vec = TfidfVectorizer(max_df=0.9)\n",
    "      #X_train_vec = self.vec.fit_transform([j for i in self.X_train for j in i])\n",
    "      #X_test_vec = self.vec.transform([j for i in self.X_test for j in i])\n",
    "      X_train_vec = self.vec.fit_transform(self.X_train)\n",
    "      X_test_vec = self.vec.transform(self.X_test)\n",
    "      return X_train_vec, X_test_vec\n",
    "        \n",
    "    def toNGram(self):\n",
    "      self.vec = CountVectorizer(min_df = 1, ngram_range = (1,2))#, analyzer=\"char_wb\")\n",
    "      #X_train_vec = self.vec.fit_transform([j for i in self.X_train for j in i])\n",
    "      #X_test_vec = self.vec.transform([j for i in self.X_test for j in i])\n",
    "      X_train_vec = self.vec.fit_transform(self.X_train)\n",
    "      X_test_vec = self.vec.transform(self.X_test)\n",
    "      return X_train_vec, X_test_vec\n",
    "\n",
    "\n"
   ]
  },
  {
   "cell_type": "code",
   "execution_count": 22,
   "metadata": {
    "colab": {
     "base_uri": "https://localhost:8080/"
    },
    "id": "MGPqLXPTSz6l",
    "outputId": "dbbd415a-3128-4f94-c985-36ffd559ba5e"
   },
   "outputs": [
    {
     "name": "stdout",
     "output_type": "stream",
     "text": [
      "1515.8284366471003 18337 29136\n",
      "(800, 10822) (800, 10822) (200, 10822) (200, 10822)\n"
     ]
    }
   ],
   "source": [
    "# Feature test\n",
    "\n",
    "featureModel = FeatureModel(X_train, X_test)\n",
    "X_train_TFIDF, X_test_TFIDF = featureModel.toTFIDF()\n",
    "X_train_BOW, X_test_BOW = featureModel.toBOW()\n",
    "X_train_NG, X_test_NG = featureModel.toNGram()\n",
    "print(np.sum(X_test_TFIDF.toarray()), np.sum(X_test_BOW.toarray()), np.sum(X_test_NG.toarray()))\n",
    "print(X_train_BOW.toarray().shape, X_train_TFIDF.toarray().shape, X_test_BOW.toarray().shape, X_test_TFIDF.toarray().shape)\n",
    "# print(X_train_BOW.toarray()[0, 100:1100])\n",
    "# print(X_train_TFIDF.toarray()[0, 100:1100])\n",
    "# print(X_train_NG.toarray()[0, 100:1100])"
   ]
  },
  {
   "cell_type": "code",
   "execution_count": 23,
   "metadata": {
    "id": "caf7d-PsSz6l"
   },
   "outputs": [],
   "source": [
    "class Model:\n",
    "    def __init__(self, traindata, trainlabel, modelName:str):\n",
    "        self.x = traindata\n",
    "        self.y = trainlabel.reshape((trainlabel.shape[0],))\n",
    "        #print(self.x)\n",
    "        #print(self.y)\n",
    "        self.modelName = modelName\n",
    "        self.kf = KFold(n_splits = 10)\n",
    "        self.clf = None\n",
    "        if self.modelName == 'DecisionTree':\n",
    "          self.DecisionTree()\n",
    "        elif self.modelName == 'SVM':\n",
    "          self.SVM()\n",
    "        elif self.modelName == 'KNN':\n",
    "          self.KNN()\n",
    "        \n",
    "    \n",
    "    def SVM(self):\n",
    "        self.clf = svm.SVC(kernel=\"linear\")\n",
    "        scores = cross_val_score(self.clf, self.x, self.y, cv=10)\n",
    "        print(\"scores:\",scores)\n",
    "        print(\"scores mean:\", scores.mean())\n",
    "        self.clf.fit(self.x, self.y)\n",
    "    \n",
    "\n",
    "    def DecisionTree(self):\n",
    "        self.clf = tree.DecisionTreeClassifier()\n",
    "        scores = cross_val_score(self.clf, self.x, self.y, cv=10)\n",
    "        print(\"scores:\",scores)\n",
    "        print(\"scores mean:\", scores.mean())\n",
    "        self.clf.fit(self.x, self.y)         \n",
    "\n",
    "    \n",
    "    def KNN(self):\n",
    "        self.clf = KNeighborsClassifier(n_neighbors=3)\n",
    "        scores = cross_val_score(self.clf, self.x, self.y, cv=10)\n",
    "        print(\"scores:\",scores)\n",
    "        print(\"scores mean:\", scores.mean())\n",
    "        self.clf.fit(self.x, self.y)\n",
    "\n",
    "        "
   ]
  },
  {
   "cell_type": "code",
   "execution_count": 24,
   "metadata": {
    "colab": {
     "base_uri": "https://localhost:8080/"
    },
    "id": "Tl2wqv738rrc",
    "outputId": "2b9e7420-bd92-453e-c0df-65213b5db1be"
   },
   "outputs": [
    {
     "name": "stdout",
     "output_type": "stream",
     "text": [
      "scores: [0.9625 0.95   0.9625 0.95   0.9    0.925  0.95   0.9    0.9625 0.975 ]\n",
      "scores mean: 0.94375\n",
      "                     precision    recall  f1-score   support\n",
      "\n",
      "    G.K. Chesterton       0.89      0.93      0.91        42\n",
      "    Herman Melville       0.84      0.84      0.84        31\n",
      "        Jane Austen       0.91      0.93      0.92        45\n",
      "      Lewis Carroll       1.00      0.93      0.97        45\n",
      "Thornton W. Burgess       1.00      1.00      1.00        37\n",
      "\n",
      "           accuracy                           0.93       200\n",
      "          macro avg       0.93      0.93      0.93       200\n",
      "       weighted avg       0.93      0.93      0.93       200\n",
      "\n",
      "scores: [1.     0.975  1.     1.     1.     0.9875 1.     0.975  1.     1.    ]\n",
      "scores mean: 0.99375\n",
      "                     precision    recall  f1-score   support\n",
      "\n",
      "    G.K. Chesterton       1.00      1.00      1.00        42\n",
      "    Herman Melville       1.00      1.00      1.00        31\n",
      "        Jane Austen       1.00      1.00      1.00        45\n",
      "      Lewis Carroll       1.00      1.00      1.00        45\n",
      "Thornton W. Burgess       1.00      1.00      1.00        37\n",
      "\n",
      "           accuracy                           1.00       200\n",
      "          macro avg       1.00      1.00      1.00       200\n",
      "       weighted avg       1.00      1.00      1.00       200\n",
      "\n",
      "scores: [1.     0.975  0.9625 0.975  0.975  0.975  0.975  1.     0.9875 0.975 ]\n",
      "scores mean: 0.9800000000000001\n",
      "                     precision    recall  f1-score   support\n",
      "\n",
      "    G.K. Chesterton       1.00      0.93      0.96        42\n",
      "    Herman Melville       1.00      0.97      0.98        31\n",
      "        Jane Austen       1.00      1.00      1.00        45\n",
      "      Lewis Carroll       0.92      1.00      0.96        45\n",
      "Thornton W. Burgess       1.00      1.00      1.00        37\n",
      "\n",
      "           accuracy                           0.98       200\n",
      "          macro avg       0.98      0.98      0.98       200\n",
      "       weighted avg       0.98      0.98      0.98       200\n",
      "\n"
     ]
    }
   ],
   "source": [
    "# TFIDF transformation: scores and report \n",
    "featureModel = FeatureModel(X_train, X_test)\n",
    "X_train_TFIDF, X_test_TFIDF = featureModel.toTFIDF()\n",
    "authors = list(partition.encoder_nums.classes_)\n",
    "\n",
    "model_TFIDF_DT = Model(X_train_TFIDF.reshape((800,-1)).tocsr(), y_train_num, 'DecisionTree')\n",
    "predicted_DT = model_TFIDF_DT.clf.predict(X_test_TFIDF.tocsr())\n",
    "# print(predicted_DT)\n",
    "# print(partition.encoder_nums.inverse_transform(predicted_DT))\n",
    "print(metrics.classification_report(y_test_num, predicted_DT, target_names=authors))\n",
    "\n",
    "\n",
    "model_TFIDF_SVM = Model(X_train_TFIDF.reshape((800,-1)).tocsr(), y_train_num.reshape((800,)), 'SVM')\n",
    "predicted_SVM = model_TFIDF_SVM.clf.predict(X_test_TFIDF.tocsr())\n",
    "# print(predicted_SVM)\n",
    "# print(partition.encoder_nums.inverse_transform(predicted_SVM))\n",
    "print(metrics.classification_report(y_test_num, predicted_SVM, target_names=authors))\n",
    "\n",
    "model_TFIDF_KNN = Model(X_train_TFIDF.reshape((800,-1)).tocsr(), y_train_num, 'KNN')\n",
    "predicted_KNN = model_TFIDF_KNN.clf.predict(X_test_TFIDF.tocsr())\n",
    "# print(predicted_KNN)\n",
    "# print(partition.encoder_nums.inverse_transform(predicted_KNN))\n",
    "print(metrics.classification_report(y_test_num, predicted_KNN, target_names=authors))\n",
    "\n",
    "\n"
   ]
  },
  {
   "cell_type": "code",
   "execution_count": 25,
   "metadata": {
    "colab": {
     "base_uri": "https://localhost:8080/"
    },
    "id": "nWZF7vz4-Wu-",
    "outputId": "0743b359-feb6-4187-8cbf-4cf50a47c180"
   },
   "outputs": [
    {
     "name": "stdout",
     "output_type": "stream",
     "text": [
      "DT Bias: \n",
      "0.185\n",
      "DT Variance: \n",
      "1.9847750000000002\n",
      "SVM Bias: \n",
      "0.0\n",
      "SVM Variance: \n",
      "1.9595999999999998\n",
      "KNN Bias: \n",
      "0.155\n",
      "KNN Variance: \n",
      "1.909375\n"
     ]
    }
   ],
   "source": [
    "# Error analysis \n",
    "print('DT Bias: ')\n",
    "TFIDT_DT_Bias = np.mean((y_test_num.reshape((200,)) - predicted_DT)**2)\n",
    "print(TFIDT_DT_Bias)\n",
    "print('DT Variance: ')\n",
    "TFIDT_DT_Var = np.var(predicted_DT)\n",
    "print(TFIDT_DT_Var)\n",
    "\n",
    "print('SVM Bias: ')\n",
    "TFIDT_SVM_Bias = np.mean((y_test_num.reshape((200,)) - predicted_SVM)**2)\n",
    "print(TFIDT_SVM_Bias)\n",
    "print('SVM Variance: ')\n",
    "TFIDT_SVM_Var = np.var(predicted_SVM)\n",
    "print(TFIDT_SVM_Var)\n",
    "\n",
    "print('KNN Bias: ')\n",
    "TFIDT_KNN_Bias = np.mean((y_test_num.reshape((200,)) - predicted_KNN)**2)\n",
    "print(TFIDT_KNN_Bias)\n",
    "print('KNN Variance: ')\n",
    "TFIDT_KNN_Var = np.var(predicted_KNN)\n",
    "print(TFIDT_KNN_Var)"
   ]
  },
  {
   "cell_type": "code",
   "execution_count": 26,
   "metadata": {
    "colab": {
     "base_uri": "https://localhost:8080/"
    },
    "id": "WnxNRJCO8EH8",
    "outputId": "2f2cf9df-2cab-4172-cd1e-66182a026f74"
   },
   "outputs": [
    {
     "name": "stdout",
     "output_type": "stream",
     "text": [
      "scores: [0.975  0.9625 0.95   0.9375 0.9    0.925  0.9625 0.925  0.95   0.9375]\n",
      "scores mean: 0.9425000000000001\n",
      "                     precision    recall  f1-score   support\n",
      "\n",
      "    G.K. Chesterton       0.95      0.88      0.91        42\n",
      "    Herman Melville       0.82      0.90      0.86        31\n",
      "        Jane Austen       0.94      0.98      0.96        45\n",
      "      Lewis Carroll       0.98      0.93      0.95        45\n",
      "Thornton W. Burgess       1.00      1.00      1.00        37\n",
      "\n",
      "           accuracy                           0.94       200\n",
      "          macro avg       0.94      0.94      0.94       200\n",
      "       weighted avg       0.94      0.94      0.94       200\n",
      "\n",
      "scores: [1.     0.9875 0.9875 1.     1.     0.9875 1.     0.9875 1.     1.    ]\n",
      "scores mean: 0.9949999999999999\n",
      "                     precision    recall  f1-score   support\n",
      "\n",
      "    G.K. Chesterton       1.00      0.98      0.99        42\n",
      "    Herman Melville       0.94      1.00      0.97        31\n",
      "        Jane Austen       1.00      1.00      1.00        45\n",
      "      Lewis Carroll       1.00      0.98      0.99        45\n",
      "Thornton W. Burgess       1.00      1.00      1.00        37\n",
      "\n",
      "           accuracy                           0.99       200\n",
      "          macro avg       0.99      0.99      0.99       200\n",
      "       weighted avg       0.99      0.99      0.99       200\n",
      "\n",
      "scores: [1.     0.975  0.9875 0.975  0.9875 0.9875 0.9875 0.9875 0.975  0.9875]\n",
      "scores mean: 0.9850000000000001\n",
      "                     precision    recall  f1-score   support\n",
      "\n",
      "    G.K. Chesterton       0.93      0.95      0.94        42\n",
      "    Herman Melville       0.97      0.94      0.95        31\n",
      "        Jane Austen       0.98      1.00      0.99        45\n",
      "      Lewis Carroll       1.00      0.98      0.99        45\n",
      "Thornton W. Burgess       1.00      1.00      1.00        37\n",
      "\n",
      "           accuracy                           0.97       200\n",
      "          macro avg       0.98      0.97      0.97       200\n",
      "       weighted avg       0.98      0.97      0.98       200\n",
      "\n"
     ]
    }
   ],
   "source": [
    "# BOW transformation: scores and report\n",
    "featureModel = FeatureModel(X_train, X_test)\n",
    "X_train_BOW, X_test_BOW = featureModel.toBOW()\n",
    "authors = list(partition.encoder_nums.classes_)\n",
    "\n",
    "model_BOW_DT = Model(X_train_BOW.reshape((800,-1)).tocsr(), y_train_num, 'DecisionTree')\n",
    "predicted_DT = model_BOW_DT.clf.predict(X_test_BOW.reshape(200,-1).tocsr())\n",
    "# print(predicted_DT)\n",
    "# print(partition.encoder_nums.inverse_transform(predicted_DT))\n",
    "print(metrics.classification_report(y_test_num, predicted_DT, target_names=authors))\n",
    "\n",
    "\n",
    "model_BOW_SVM = Model(X_train_BOW.reshape((800,-1)).tocsr(), y_train_num.reshape((800,)), 'SVM')\n",
    "predicted_SVM = model_BOW_SVM.clf.predict(X_test_BOW.reshape(200,-1).tocsr())\n",
    "# print(predicted_SVM)\n",
    "# print(partition.encoder_nums.inverse_transform(predicted_SVM))\n",
    "print(metrics.classification_report(y_test_num, predicted_SVM, target_names=authors))\n",
    "\n",
    "model_BOW_KNN = Model(X_train_BOW.reshape((800,-1)).tocsr(), y_train_num, 'KNN')\n",
    "predicted_KNN = model_BOW_KNN.clf.predict(X_test_BOW.reshape(200,-1).tocsr())\n",
    "# print(predicted_KNN)\n",
    "# print(partition.encoder_nums.inverse_transform(predicted_KNN))\n",
    "print(metrics.classification_report(y_test_num, predicted_KNN, target_names=authors))\n",
    "\n",
    "\n",
    "\n"
   ]
  },
  {
   "cell_type": "code",
   "execution_count": 27,
   "metadata": {
    "colab": {
     "base_uri": "https://localhost:8080/"
    },
    "id": "YCIWdi75A15o",
    "outputId": "8eb8d52f-04c4-413f-ab3a-7b7de4c39497"
   },
   "outputs": [
    {
     "name": "stdout",
     "output_type": "stream",
     "text": [
      "DT Bias: \n",
      "0.185\n",
      "DT Variance: \n",
      "1.904375\n",
      "SVM Bias: \n",
      "0.025\n",
      "SVM Variance: \n",
      "1.9447750000000001\n",
      "KNN Bias: \n",
      "0.08\n",
      "KNN Variance: \n",
      "1.9699\n"
     ]
    }
   ],
   "source": [
    "# Error analysis \n",
    "\n",
    "print('DT Bias: ')\n",
    "BOW_DT_Bias = np.mean((y_test_num.reshape((200,)) - predicted_DT)**2)\n",
    "print(BOW_DT_Bias)\n",
    "print('DT Variance: ')\n",
    "BOW_DT_Var = np.var(predicted_DT)\n",
    "print(BOW_DT_Var)\n",
    "\n",
    "print('SVM Bias: ')\n",
    "BOW_SVM_Bias = np.mean((y_test_num.reshape((200,)) - predicted_SVM)**2)\n",
    "print(BOW_SVM_Bias)\n",
    "print('SVM Variance: ')\n",
    "BOW_SVM_Var = np.var(predicted_SVM)\n",
    "print(BOW_SVM_Var)\n",
    "\n",
    "print('KNN Bias: ')\n",
    "BOW_KNN_Bias = np.mean((y_test_num.reshape((200,)) - predicted_KNN)**2)\n",
    "print(BOW_KNN_Bias)\n",
    "print('KNN Variance: ')\n",
    "BOW_KNN_Var = np.var(predicted_KNN)\n",
    "print(BOW_KNN_Var)\n"
   ]
  },
  {
   "cell_type": "code",
   "execution_count": 28,
   "metadata": {
    "colab": {
     "base_uri": "https://localhost:8080/"
    },
    "id": "4M9SmKeG8l59",
    "outputId": "5be81950-546c-43be-b632-03fe8c0ccd94"
   },
   "outputs": [
    {
     "name": "stdout",
     "output_type": "stream",
     "text": [
      "scores: [0.95   0.975  0.975  0.9375 0.925  0.925  0.95   0.9125 0.975  0.925 ]\n",
      "scores mean: 0.9450000000000001\n",
      "                     precision    recall  f1-score   support\n",
      "\n",
      "    G.K. Chesterton       0.95      0.93      0.94        42\n",
      "    Herman Melville       0.80      0.90      0.85        31\n",
      "        Jane Austen       0.93      0.93      0.93        45\n",
      "      Lewis Carroll       1.00      0.93      0.97        45\n",
      "Thornton W. Burgess       1.00      1.00      1.00        37\n",
      "\n",
      "           accuracy                           0.94       200\n",
      "          macro avg       0.94      0.94      0.94       200\n",
      "       weighted avg       0.94      0.94      0.94       200\n",
      "\n",
      "scores: [1.     0.975  0.975  1.     1.     0.975  1.     0.9875 1.     1.    ]\n",
      "scores mean: 0.9912500000000002\n",
      "                     precision    recall  f1-score   support\n",
      "\n",
      "    G.K. Chesterton       1.00      0.95      0.98        42\n",
      "    Herman Melville       0.91      1.00      0.95        31\n",
      "        Jane Austen       1.00      1.00      1.00        45\n",
      "      Lewis Carroll       1.00      0.98      0.99        45\n",
      "Thornton W. Burgess       1.00      1.00      1.00        37\n",
      "\n",
      "           accuracy                           0.98       200\n",
      "          macro avg       0.98      0.99      0.98       200\n",
      "       weighted avg       0.99      0.98      0.99       200\n",
      "\n",
      "scores: [1.     0.975  0.975  0.975  1.     0.975  0.9875 0.975  0.9875 0.975 ]\n",
      "scores mean: 0.9824999999999999\n",
      "                     precision    recall  f1-score   support\n",
      "\n",
      "    G.K. Chesterton       0.95      0.98      0.96        42\n",
      "    Herman Melville       1.00      0.90      0.95        31\n",
      "        Jane Austen       1.00      0.93      0.97        45\n",
      "      Lewis Carroll       0.88      0.98      0.93        45\n",
      "Thornton W. Burgess       1.00      1.00      1.00        37\n",
      "\n",
      "           accuracy                           0.96       200\n",
      "          macro avg       0.97      0.96      0.96       200\n",
      "       weighted avg       0.96      0.96      0.96       200\n",
      "\n"
     ]
    }
   ],
   "source": [
    "# NGram transformation: scores and report\n",
    "featureModel = FeatureModel(X_train, X_test)\n",
    "X_train_NGram, X_test_NGram = featureModel.toNGram()\n",
    "authors = list(partition.encoder_nums.classes_)\n",
    "\n",
    "model_NGram_DT = Model(X_train_NGram.reshape((800,-1)).tocsr(), y_train_num, 'DecisionTree')\n",
    "predicted_DT = model_NGram_DT.clf.predict(X_test_NGram.reshape(200,-1).tocsr())\n",
    "# print(predicted_DT)\n",
    "# print(partition.encoder_nums.inverse_transform(predicted_DT))\n",
    "print(metrics.classification_report(y_test_num, predicted_DT, target_names=authors))\n",
    "\n",
    "\n",
    "\n",
    "model_NGram_SVM = Model(X_train_NGram.reshape((800,-1)).tocsr(), y_train_num.reshape((800,)), 'SVM')\n",
    "predicted_SVM = model_NGram_SVM.clf.predict(X_test_NGram.reshape(200,-1).tocsr())\n",
    "# print(predicted_SVM)\n",
    "# print(partition.encoder_nums.inverse_transform(predicted_SVM))\n",
    "print(metrics.classification_report(y_test_num, predicted_SVM, target_names=authors))\n",
    "# print(metrics.confusion_matrix(y_test_num, predicted_SVM))\n",
    "\n",
    "model_NGram_KNN = Model(X_train_NGram.reshape((800,-1)).tocsr(), y_train_num, 'KNN')\n",
    "predicted_KNN = model_NGram_KNN.clf.predict(X_test_NGram.reshape(200,-1).tocsr())\n",
    "# print(predicted_KNN)\n",
    "# print(partition.encoder_nums.inverse_transform(predicted_KNN))\n",
    "print(metrics.classification_report(y_test_num, predicted_KNN, target_names=authors))\n",
    "\n",
    "\n",
    "\n"
   ]
  },
  {
   "cell_type": "code",
   "execution_count": 29,
   "metadata": {
    "colab": {
     "base_uri": "https://localhost:8080/"
    },
    "id": "ZDTyQWjMB1pZ",
    "outputId": "b5debe88-9b8a-4cff-fc85-45e4ed684b79"
   },
   "outputs": [
    {
     "name": "stdout",
     "output_type": "stream",
     "text": [
      "DT Bias: \n",
      "0.145\n",
      "DT Variance: \n",
      "1.9449750000000001\n",
      "SVM Bias: \n",
      "0.03\n",
      "SVM Variance: \n",
      "1.9295999999999998\n",
      "KNN Bias: \n",
      "0.15\n",
      "KNN Variance: \n",
      "1.9875000000000003\n"
     ]
    }
   ],
   "source": [
    "# Error analysis \n",
    "\n",
    "\n",
    "print('DT Bias: ')\n",
    "NGram_DT_Bias = np.mean((y_test_num.reshape((200,)) - predicted_DT)**2)\n",
    "print(NGram_DT_Bias)\n",
    "print('DT Variance: ')\n",
    "NGram_DT_Var = np.var(predicted_DT)\n",
    "print(NGram_DT_Var)\n",
    "\n",
    "print('SVM Bias: ')\n",
    "NGram_SVM_Bias = np.mean((y_test_num.reshape((200,)) - predicted_SVM)**2)\n",
    "print(NGram_SVM_Bias)\n",
    "print('SVM Variance: ')\n",
    "NGram_SVM_Var = np.var(predicted_SVM)\n",
    "print(NGram_SVM_Var)\n",
    "\n",
    "print('KNN Bias: ')\n",
    "NGram_KNN_Bias = np.mean((y_test_num.reshape((200,)) - predicted_KNN)**2)\n",
    "print(NGram_KNN_Bias)\n",
    "print('KNN Variance: ')\n",
    "NGram_KNN_Var = np.var(predicted_KNN)\n",
    "print(NGram_KNN_Var)"
   ]
  },
  {
   "cell_type": "code",
   "execution_count": 30,
   "metadata": {
    "colab": {
     "base_uri": "https://localhost:8080/",
     "height": 354
    },
    "id": "3J1vVCxtLFTO",
    "outputId": "a2b7d4af-4522-4a33-99f1-395feea0d8a5"
   },
   "outputs": [
    {
     "data": {
      "image/png": "[encoded data removed]",
      "text/plain": [
       "<Figure size 432x288 with 1 Axes>"
      ]
     },
     "metadata": {
      "needs_background": "light",
      "tags": []
     },
     "output_type": "display_data"
    }
   ],
   "source": [
    "# visualizing bias value of the prediction results\n",
    "fig, ax = plt.subplots()\n",
    "\n",
    "num_list = [TFIDT_DT_Bias,TFIDT_SVM_Bias,TFIDT_KNN_Bias,BOW_DT_Bias,BOW_SVM_Bias,BOW_KNN_Bias,NGram_DT_Bias,NGram_SVM_Bias,NGram_KNN_Bias]\n",
    "\n",
    "name_list = ['TFIDT_DT_Bias','TFIDT_SVM_Bias','TFIDT_KNN_Bias','BOW_DT_Bias','BOW_SVM_Bias','BOW_KNN_Bias','NGram_DT_Bias','NGram_SVM_Bias','NGram_KNN_Bias',]\n",
    "b = ax.bar(name_list, num_list)\n",
    "\n",
    "plt.bar(range(len(num_list)), num_list,color=(0.2, 0.4, 0.6, 0.6),tick_label=name_list)\n",
    "plt.xticks(size='small',rotation=60)\n",
    "plt.title('Bias of models')\n",
    "plt.xlabel('name')\n",
    "plt.ylabel('value')\n",
    "\n",
    "for a, b in zip(name_list,num_list):\n",
    "\n",
    "    ax.text(a, b, b, ha='center', va='bottom', fontsize=7,) \n",
    "\n",
    "plt.show()"
   ]
  },
  {
   "cell_type": "code",
   "execution_count": 31,
   "metadata": {
    "colab": {
     "base_uri": "https://localhost:8080/",
     "height": 351
    },
    "id": "OTzohB3bLk3J",
    "outputId": "4df6ff89-c8d3-4b93-c721-7c972d8c041b"
   },
   "outputs": [
    {
     "data": {
      "image/png": "[encoded data removed]",
      "text/plain": [
       "<Figure size 432x288 with 1 Axes>"
      ]
     },
     "metadata": {
      "needs_background": "light",
      "tags": []
     },
     "output_type": "display_data"
    }
   ],
   "source": [
    "# visualizing variance value of the prediction results\n",
    "fig, ax = plt.subplots()\n",
    "\n",
    "\n",
    "num_list = [TFIDT_DT_Var,TFIDT_SVM_Var,TFIDT_KNN_Var,BOW_DT_Var,BOW_SVM_Var,BOW_KNN_Var,NGram_DT_Var,NGram_SVM_Var,NGram_KNN_Var]\n",
    "\n",
    "name_list = ['TFIDT_DT_Var','TFIDT_SVM_Var','TFIDT_KNN_Var','BOW_DT_Var','BOW_SVM_Var','BOW_KNN_Var','NGram_DT_Var','NGram_SVM_Var','NGram_KNN_Var',]\n",
    "b = ax.bar(name_list, num_list)\n",
    "\n",
    "plt.bar(range(len(num_list)), num_list,color='purple',tick_label=name_list)\n",
    "ax.set(ylim=[0,3])\n",
    "\n",
    "plt.xticks(size='small',rotation=60)\n",
    "plt.title('Variance of models')\n",
    "plt.xlabel('name')\n",
    "plt.ylabel('value')\n",
    "\n",
    "for a,b in zip(name_list,num_list):\n",
    "\n",
    "    ax.text(a, b+0.1, b, ha='center', va='bottom', fontsize=7, rotation=90) \n",
    "\n",
    "plt.show()"
   ]
  },
  {
   "cell_type": "code",
   "execution_count": 32,
   "metadata": {
    "colab": {
     "base_uri": "https://localhost:8080/",
     "height": 1000
    },
    "id": "fVbGyDUXDanR",
    "outputId": "d65fd14a-7c91-4858-dfd5-41dfe870fe7b"
   },
   "outputs": [
    {
     "data": {
      "image/png": "[encoded data removed]",
      "text/plain": [
       "<Figure size 432x288 with 1 Axes>"
      ]
     },
     "metadata": {
      "needs_background": "light",
      "tags": []
     },
     "output_type": "display_data"
    },
    {
     "data": {
      "image/png": "[encoded data removed]",
      "text/plain": [
       "<Figure size 432x288 with 1 Axes>"
      ]
     },
     "metadata": {
      "needs_background": "light",
      "tags": []
     },
     "output_type": "display_data"
    },
    {
     "data": {
      "image/png": "[encoded data removed]",
      "text/plain": [
       "<Figure size 432x288 with 1 Axes>"
      ]
     },
     "metadata": {
      "needs_background": "light",
      "tags": []
     },
     "output_type": "display_data"
    },
    {
     "data": {
      "image/png": "[encoded data removed]",
      "text/plain": [
       "<Figure size 432x288 with 1 Axes>"
      ]
     },
     "metadata": {
      "needs_background": "light",
      "tags": []
     },
     "output_type": "display_data"
    },
    {
     "data": {
      "image/png": "[encoded data removed]",
      "text/plain": [
       "<Figure size 432x288 with 1 Axes>"
      ]
     },
     "metadata": {
      "needs_background": "light",
      "tags": []
     },
     "output_type": "display_data"
    }
   ],
   "source": [
    "# visualizing the words frequency of each book after cleansing\n",
    "authors = list(partition.encoder_nums.classes_)\n",
    "\n",
    "fdist = []\n",
    "fdist.append([])\n",
    "fdist.append([])\n",
    "fdist.append([])\n",
    "fdist.append([])\n",
    "fdist.append([])\n",
    "\n",
    "from nltk.probability import FreqDist\n",
    "import matplotlib.pyplot as plt\n",
    "index = 0\n",
    "\n",
    "for i in range(len(X_test)):\n",
    "  index = y_test_num[i][0]\n",
    "  fdist[index].append(X_test[i])\n",
    "\n",
    "for i in range(5):\n",
    "  fdist[i] = \" \".join(fdist[i])\n",
    "  fdist[i] = fdist[i].split(\" \")\n",
    "\n",
    "  fdistt = FreqDist(fdist[i])  \n",
    "\n",
    "  plt.title(authors[i])\n",
    "  plt.xlabel(\"Word\")\n",
    "  plt.ylabel(\"Frequency\")\n",
    "  fdistt.plot(30,cumulative=False)\n",
    "\n",
    "\n",
    "  plt.show()\n",
    "\n"
   ]
  }
 ],
 "metadata": {
  "colab": {
   "collapsed_sections": [],
   "name": "GroupA1_Classification.ipynb",
   "provenance": []
  },
  "kernelspec": {
   "display_name": "Python 3",
   "language": "python",
   "name": "python3"
  },
  "language_info": {
   "codemirror_mode": {
    "name": "ipython",
    "version": 3
   },
   "file_extension": ".py",
   "mimetype": "text/x-python",
   "name": "python",
   "nbconvert_exporter": "python",
   "pygments_lexer": "ipython3",
   "version": "3.7.1"
  }
 },
 "nbformat": 4,
 "nbformat_minor": 1
}
